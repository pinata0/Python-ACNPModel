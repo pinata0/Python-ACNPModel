{
 "cells": [
  {
   "cell_type": "code",
   "execution_count": 35,
   "metadata": {},
   "outputs": [
    {
     "name": "stdout",
     "output_type": "stream",
     "text": [
      "['US'] 데이터 저장 완료\n"
     ]
    }
   ],
   "source": [
    "import wbdata\n",
    "import pandas as pd\n",
    "from datetime import datetime\n",
    "\n",
    "def collect_wbdata(country, indicators, start_date, end_date):\n",
    "    df = wbdata.get_dataframe(indicators, country=country, date=(start_date, end_date))\n",
    "    df.reset_index(inplace=True)\n",
    "    df.to_csv(f'../data/{country}_economic_indicators.csv', index=False)\n",
    "    print(f'{country} 데이터 저장 완료')\n",
    "\n",
    "# 사용 예시\n",
    "if __name__ == '__main__':\n",
    "    COUNTRY = ['US']  # 한국 코드 예시\n",
    "    INDICATORS = {\n",
    "        'FP.CPI.TOTL.ZG': 'Inflation',\n",
    "        'NY.GDP.MKTP.KD.ZG': 'GDP Growth',\n",
    "        'SL.UEM.TOTL.ZS': 'Unemployment'\n",
    "    }\n",
    "    START_DATE = datetime(2020, 1, 1)\n",
    "    END_DATE = datetime.now()\n",
    "\n",
    "    collect_wbdata(COUNTRY, INDICATORS, START_DATE, END_DATE)\n"
   ]
  },
  {
   "cell_type": "code",
   "execution_count": 34,
   "metadata": {},
   "outputs": [
    {
     "name": "stdout",
     "output_type": "stream",
     "text": [
      "새로운 법령 업데이트가 없습니다.\n"
     ]
    }
   ],
   "source": [
    "import feedparser\n",
    "import pandas as pd\n",
    "\n",
    "# RSS 피드 수집 자동화\n",
    "def collect_law_updates(feed_url):\n",
    "    feed = feedparser.parse(feed_url)\n",
    "    entries = feed.entries\n",
    "    \n",
    "    if entries:\n",
    "        df = pd.DataFrame({\n",
    "            'title': [entry.title for entry in entries],\n",
    "            'link': [entry.link for entry in entries],\n",
    "            'published': [entry.published for entry in entries],\n",
    "            'summary': [entry.summary for entry in entries]\n",
    "        })\n",
    "        df.to_csv('law_updates.csv', index=False)\n",
    "        print(f\"{len(entries)}개의 법령 업데이트를 저장했습니다.\")\n",
    "    else:\n",
    "        print(\"새로운 법령 업데이트가 없습니다.\")\n",
    "\n",
    "# 사용 예시 (대한민국 법제처 RSS 피드 예시)\n",
    "if __name__ == '__main__':\n",
    "    FEED_URL = 'https://www.law.go.kr/rss/lsSc.do'  # 법제처 RSS 예시\n",
    "    collect_law_updates(FEED_URL)\n"
   ]
  }
 ],
 "metadata": {
  "kernelspec": {
   "display_name": "Python 3",
   "language": "python",
   "name": "python3"
  },
  "language_info": {
   "codemirror_mode": {
    "name": "ipython",
    "version": 3
   },
   "file_extension": ".py",
   "mimetype": "text/x-python",
   "name": "python",
   "nbconvert_exporter": "python",
   "pygments_lexer": "ipython3",
   "version": "3.12.0"
  }
 },
 "nbformat": 4,
 "nbformat_minor": 2
}
